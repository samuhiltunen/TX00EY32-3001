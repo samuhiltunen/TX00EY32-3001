{
 "cells": [
  {
   "cell_type": "markdown",
   "source": [
    "# Breast Cancer Classification\n",
    "## 1. Objective\n",
    "To build a K-Nearest Neighbors (KNN) classifier to predict the binary-valued target variable \"Diagnosis\" in the Wisconsin breast cancer dataset. Evaluate and report the performance of the classifier.\n"
   ],
   "metadata": {
    "collapsed": false
   },
   "id": "8619e62417f2cb77"
  },
  {
   "cell_type": "code",
   "execution_count": 115,
   "id": "initial_id",
   "metadata": {
    "ExecuteTime": {
     "end_time": "2024-09-04T19:05:55.272616Z",
     "start_time": "2024-09-04T19:05:53.264409Z"
    }
   },
   "outputs": [],
   "source": [
    "from ucimlrepo import fetch_ucirepo \n",
    "import pandas as pd\n",
    "from sklearn.neighbors import KNeighborsClassifier\n",
    "from sklearn.preprocessing import StandardScaler\n",
    "from sklearn.model_selection import train_test_split\n",
    "from sklearn.metrics import confusion_matrix, ConfusionMatrixDisplay\n",
    "from sklearn.metrics import accuracy_score, precision_score, recall_score\n",
    "\n",
    "\n",
    "  \n",
    "# fetch dataset \n",
    "breast_cancer_wisconsin_diagnostic = fetch_ucirepo(id=17) \n",
    "  \n",
    "# data (as pandas dataframes) \n",
    "df_features_aka_x = breast_cancer_wisconsin_diagnostic.data.features #X\n",
    "df_targets_aka_y = breast_cancer_wisconsin_diagnostic.data.targets#Y\n",
    "\n",
    "#create dataframe from x and y\n",
    "df = pd.DataFrame(df_features_aka_x, columns=df_features_aka_x.columns)\n",
    "  "
   ]
  },
  {
   "cell_type": "markdown",
   "id": "b0efb8be06204b12",
   "metadata": {
    "collapsed": false
   },
   "source": [
    "## 2. Data Understanding\n",
    "\n",
    "**Description**:\n",
    "The Wisconsin breast cancer dataset consists of features extracted from breast cancer biopsies.\n",
    "\n",
    "You have a dataset consisting of:\n",
    "- **Features**: `df_features_aka_x`\n",
    "- **Targets**: `df_targets_aka_y`.  The target variable indicates whether the cancer is malignant (M) or benign (B).\n",
    "\n"
   ]
  },
  {
   "cell_type": "markdown",
   "source": [
    "**Variables**:"
   ],
   "metadata": {
    "collapsed": false
   },
   "id": "b75141b2675b9e55"
  },
  {
   "cell_type": "code",
   "outputs": [
    {
     "name": "stdout",
     "output_type": "stream",
     "text": [
      "                  name     role         type demographic description units  \\\n",
      "0                   ID       ID  Categorical        None        None  None   \n",
      "1            Diagnosis   Target  Categorical        None        None  None   \n",
      "2              radius1  Feature   Continuous        None        None  None   \n",
      "3             texture1  Feature   Continuous        None        None  None   \n",
      "4           perimeter1  Feature   Continuous        None        None  None   \n",
      "5                area1  Feature   Continuous        None        None  None   \n",
      "6          smoothness1  Feature   Continuous        None        None  None   \n",
      "7         compactness1  Feature   Continuous        None        None  None   \n",
      "8           concavity1  Feature   Continuous        None        None  None   \n",
      "9      concave_points1  Feature   Continuous        None        None  None   \n",
      "10           symmetry1  Feature   Continuous        None        None  None   \n",
      "11  fractal_dimension1  Feature   Continuous        None        None  None   \n",
      "12             radius2  Feature   Continuous        None        None  None   \n",
      "13            texture2  Feature   Continuous        None        None  None   \n",
      "14          perimeter2  Feature   Continuous        None        None  None   \n",
      "15               area2  Feature   Continuous        None        None  None   \n",
      "16         smoothness2  Feature   Continuous        None        None  None   \n",
      "17        compactness2  Feature   Continuous        None        None  None   \n",
      "18          concavity2  Feature   Continuous        None        None  None   \n",
      "19     concave_points2  Feature   Continuous        None        None  None   \n",
      "20           symmetry2  Feature   Continuous        None        None  None   \n",
      "21  fractal_dimension2  Feature   Continuous        None        None  None   \n",
      "22             radius3  Feature   Continuous        None        None  None   \n",
      "23            texture3  Feature   Continuous        None        None  None   \n",
      "24          perimeter3  Feature   Continuous        None        None  None   \n",
      "25               area3  Feature   Continuous        None        None  None   \n",
      "26         smoothness3  Feature   Continuous        None        None  None   \n",
      "27        compactness3  Feature   Continuous        None        None  None   \n",
      "28          concavity3  Feature   Continuous        None        None  None   \n",
      "29     concave_points3  Feature   Continuous        None        None  None   \n",
      "30           symmetry3  Feature   Continuous        None        None  None   \n",
      "31  fractal_dimension3  Feature   Continuous        None        None  None   \n",
      "\n",
      "   missing_values  \n",
      "0              no  \n",
      "1              no  \n",
      "2              no  \n",
      "3              no  \n",
      "4              no  \n",
      "5              no  \n",
      "6              no  \n",
      "7              no  \n",
      "8              no  \n",
      "9              no  \n",
      "10             no  \n",
      "11             no  \n",
      "12             no  \n",
      "13             no  \n",
      "14             no  \n",
      "15             no  \n",
      "16             no  \n",
      "17             no  \n",
      "18             no  \n",
      "19             no  \n",
      "20             no  \n",
      "21             no  \n",
      "22             no  \n",
      "23             no  \n",
      "24             no  \n",
      "25             no  \n",
      "26             no  \n",
      "27             no  \n",
      "28             no  \n",
      "29             no  \n",
      "30             no  \n",
      "31             no  \n"
     ]
    }
   ],
   "source": [
    "print(breast_cancer_wisconsin_diagnostic.variables) "
   ],
   "metadata": {
    "collapsed": false,
    "ExecuteTime": {
     "end_time": "2024-09-04T19:14:12.735878Z",
     "start_time": "2024-09-04T19:14:12.729957Z"
    }
   },
   "id": "7d8042b63ba31d52",
   "execution_count": 130
  },
  {
   "cell_type": "markdown",
   "source": [
    "**Additional Variable Information**:\n",
    "\n",
    "1) ID number\n",
    "2) Diagnosis (M = malignant, B = benign)\n",
    "3-32)\n",
    "\n",
    "Ten real-valued features are computed for each cell nucleus:\n",
    "\n",
    "\ta) radius (mean of distances from center to points on the perimeter)\n",
    "\tb) texture (standard deviation of gray-scale values)\n",
    "\tc) perimeter\n",
    "\td) area\n",
    "\te) smoothness (local variation in radius lengths)\n",
    "\tf) compactness (perimeter^2 / area - 1.0)\n",
    "\tg) concavity (severity of concave portions of the contour)\n",
    "\th) concave points (number of concave portions of the contour)\n",
    "\ti) symmetry \n",
    "\tj) fractal dimension (\"coastline approximation\" - 1)"
   ],
   "metadata": {
    "collapsed": false
   },
   "id": "a5e89543a2ab253f"
  },
  {
   "cell_type": "markdown",
   "source": [
    "**Summary of the Dataset**:"
   ],
   "metadata": {
    "collapsed": false
   },
   "id": "7513d13e4830b118"
  },
  {
   "cell_type": "code",
   "outputs": [
    {
     "data": {
      "text/plain": "          radius1    texture1  perimeter1        area1  smoothness1  \\\ncount  569.000000  569.000000  569.000000   569.000000   569.000000   \nmean    14.127292   19.289649   91.969033   654.889104     0.096360   \nstd      3.524049    4.301036   24.298981   351.914129     0.014064   \nmin      6.981000    9.710000   43.790000   143.500000     0.052630   \n25%     11.700000   16.170000   75.170000   420.300000     0.086370   \n50%     13.370000   18.840000   86.240000   551.100000     0.095870   \n75%     15.780000   21.800000  104.100000   782.700000     0.105300   \nmax     28.110000   39.280000  188.500000  2501.000000     0.163400   \n\n       compactness1  concavity1  concave_points1   symmetry1  \\\ncount    569.000000  569.000000       569.000000  569.000000   \nmean       0.104341    0.088799         0.048919    0.181162   \nstd        0.052813    0.079720         0.038803    0.027414   \nmin        0.019380    0.000000         0.000000    0.106000   \n25%        0.064920    0.029560         0.020310    0.161900   \n50%        0.092630    0.061540         0.033500    0.179200   \n75%        0.130400    0.130700         0.074000    0.195700   \nmax        0.345400    0.426800         0.201200    0.304000   \n\n       fractal_dimension1  ...     radius3    texture3  perimeter3  \\\ncount          569.000000  ...  569.000000  569.000000  569.000000   \nmean             0.062798  ...   16.269190   25.677223  107.261213   \nstd              0.007060  ...    4.833242    6.146258   33.602542   \nmin              0.049960  ...    7.930000   12.020000   50.410000   \n25%              0.057700  ...   13.010000   21.080000   84.110000   \n50%              0.061540  ...   14.970000   25.410000   97.660000   \n75%              0.066120  ...   18.790000   29.720000  125.400000   \nmax              0.097440  ...   36.040000   49.540000  251.200000   \n\n             area3  smoothness3  compactness3  concavity3  concave_points3  \\\ncount   569.000000   569.000000    569.000000  569.000000       569.000000   \nmean    880.583128     0.132369      0.254265    0.272188         0.114606   \nstd     569.356993     0.022832      0.157336    0.208624         0.065732   \nmin     185.200000     0.071170      0.027290    0.000000         0.000000   \n25%     515.300000     0.116600      0.147200    0.114500         0.064930   \n50%     686.500000     0.131300      0.211900    0.226700         0.099930   \n75%    1084.000000     0.146000      0.339100    0.382900         0.161400   \nmax    4254.000000     0.222600      1.058000    1.252000         0.291000   \n\n        symmetry3  fractal_dimension3  \ncount  569.000000          569.000000  \nmean     0.290076            0.083946  \nstd      0.061867            0.018061  \nmin      0.156500            0.055040  \n25%      0.250400            0.071460  \n50%      0.282200            0.080040  \n75%      0.317900            0.092080  \nmax      0.663800            0.207500  \n\n[8 rows x 30 columns]",
      "text/html": "<div>\n<style scoped>\n    .dataframe tbody tr th:only-of-type {\n        vertical-align: middle;\n    }\n\n    .dataframe tbody tr th {\n        vertical-align: top;\n    }\n\n    .dataframe thead th {\n        text-align: right;\n    }\n</style>\n<table border=\"1\" class=\"dataframe\">\n  <thead>\n    <tr style=\"text-align: right;\">\n      <th></th>\n      <th>radius1</th>\n      <th>texture1</th>\n      <th>perimeter1</th>\n      <th>area1</th>\n      <th>smoothness1</th>\n      <th>compactness1</th>\n      <th>concavity1</th>\n      <th>concave_points1</th>\n      <th>symmetry1</th>\n      <th>fractal_dimension1</th>\n      <th>...</th>\n      <th>radius3</th>\n      <th>texture3</th>\n      <th>perimeter3</th>\n      <th>area3</th>\n      <th>smoothness3</th>\n      <th>compactness3</th>\n      <th>concavity3</th>\n      <th>concave_points3</th>\n      <th>symmetry3</th>\n      <th>fractal_dimension3</th>\n    </tr>\n  </thead>\n  <tbody>\n    <tr>\n      <th>count</th>\n      <td>569.000000</td>\n      <td>569.000000</td>\n      <td>569.000000</td>\n      <td>569.000000</td>\n      <td>569.000000</td>\n      <td>569.000000</td>\n      <td>569.000000</td>\n      <td>569.000000</td>\n      <td>569.000000</td>\n      <td>569.000000</td>\n      <td>...</td>\n      <td>569.000000</td>\n      <td>569.000000</td>\n      <td>569.000000</td>\n      <td>569.000000</td>\n      <td>569.000000</td>\n      <td>569.000000</td>\n      <td>569.000000</td>\n      <td>569.000000</td>\n      <td>569.000000</td>\n      <td>569.000000</td>\n    </tr>\n    <tr>\n      <th>mean</th>\n      <td>14.127292</td>\n      <td>19.289649</td>\n      <td>91.969033</td>\n      <td>654.889104</td>\n      <td>0.096360</td>\n      <td>0.104341</td>\n      <td>0.088799</td>\n      <td>0.048919</td>\n      <td>0.181162</td>\n      <td>0.062798</td>\n      <td>...</td>\n      <td>16.269190</td>\n      <td>25.677223</td>\n      <td>107.261213</td>\n      <td>880.583128</td>\n      <td>0.132369</td>\n      <td>0.254265</td>\n      <td>0.272188</td>\n      <td>0.114606</td>\n      <td>0.290076</td>\n      <td>0.083946</td>\n    </tr>\n    <tr>\n      <th>std</th>\n      <td>3.524049</td>\n      <td>4.301036</td>\n      <td>24.298981</td>\n      <td>351.914129</td>\n      <td>0.014064</td>\n      <td>0.052813</td>\n      <td>0.079720</td>\n      <td>0.038803</td>\n      <td>0.027414</td>\n      <td>0.007060</td>\n      <td>...</td>\n      <td>4.833242</td>\n      <td>6.146258</td>\n      <td>33.602542</td>\n      <td>569.356993</td>\n      <td>0.022832</td>\n      <td>0.157336</td>\n      <td>0.208624</td>\n      <td>0.065732</td>\n      <td>0.061867</td>\n      <td>0.018061</td>\n    </tr>\n    <tr>\n      <th>min</th>\n      <td>6.981000</td>\n      <td>9.710000</td>\n      <td>43.790000</td>\n      <td>143.500000</td>\n      <td>0.052630</td>\n      <td>0.019380</td>\n      <td>0.000000</td>\n      <td>0.000000</td>\n      <td>0.106000</td>\n      <td>0.049960</td>\n      <td>...</td>\n      <td>7.930000</td>\n      <td>12.020000</td>\n      <td>50.410000</td>\n      <td>185.200000</td>\n      <td>0.071170</td>\n      <td>0.027290</td>\n      <td>0.000000</td>\n      <td>0.000000</td>\n      <td>0.156500</td>\n      <td>0.055040</td>\n    </tr>\n    <tr>\n      <th>25%</th>\n      <td>11.700000</td>\n      <td>16.170000</td>\n      <td>75.170000</td>\n      <td>420.300000</td>\n      <td>0.086370</td>\n      <td>0.064920</td>\n      <td>0.029560</td>\n      <td>0.020310</td>\n      <td>0.161900</td>\n      <td>0.057700</td>\n      <td>...</td>\n      <td>13.010000</td>\n      <td>21.080000</td>\n      <td>84.110000</td>\n      <td>515.300000</td>\n      <td>0.116600</td>\n      <td>0.147200</td>\n      <td>0.114500</td>\n      <td>0.064930</td>\n      <td>0.250400</td>\n      <td>0.071460</td>\n    </tr>\n    <tr>\n      <th>50%</th>\n      <td>13.370000</td>\n      <td>18.840000</td>\n      <td>86.240000</td>\n      <td>551.100000</td>\n      <td>0.095870</td>\n      <td>0.092630</td>\n      <td>0.061540</td>\n      <td>0.033500</td>\n      <td>0.179200</td>\n      <td>0.061540</td>\n      <td>...</td>\n      <td>14.970000</td>\n      <td>25.410000</td>\n      <td>97.660000</td>\n      <td>686.500000</td>\n      <td>0.131300</td>\n      <td>0.211900</td>\n      <td>0.226700</td>\n      <td>0.099930</td>\n      <td>0.282200</td>\n      <td>0.080040</td>\n    </tr>\n    <tr>\n      <th>75%</th>\n      <td>15.780000</td>\n      <td>21.800000</td>\n      <td>104.100000</td>\n      <td>782.700000</td>\n      <td>0.105300</td>\n      <td>0.130400</td>\n      <td>0.130700</td>\n      <td>0.074000</td>\n      <td>0.195700</td>\n      <td>0.066120</td>\n      <td>...</td>\n      <td>18.790000</td>\n      <td>29.720000</td>\n      <td>125.400000</td>\n      <td>1084.000000</td>\n      <td>0.146000</td>\n      <td>0.339100</td>\n      <td>0.382900</td>\n      <td>0.161400</td>\n      <td>0.317900</td>\n      <td>0.092080</td>\n    </tr>\n    <tr>\n      <th>max</th>\n      <td>28.110000</td>\n      <td>39.280000</td>\n      <td>188.500000</td>\n      <td>2501.000000</td>\n      <td>0.163400</td>\n      <td>0.345400</td>\n      <td>0.426800</td>\n      <td>0.201200</td>\n      <td>0.304000</td>\n      <td>0.097440</td>\n      <td>...</td>\n      <td>36.040000</td>\n      <td>49.540000</td>\n      <td>251.200000</td>\n      <td>4254.000000</td>\n      <td>0.222600</td>\n      <td>1.058000</td>\n      <td>1.252000</td>\n      <td>0.291000</td>\n      <td>0.663800</td>\n      <td>0.207500</td>\n    </tr>\n  </tbody>\n</table>\n<p>8 rows × 30 columns</p>\n</div>"
     },
     "execution_count": 132,
     "metadata": {},
     "output_type": "execute_result"
    }
   ],
   "source": [
    "df.describe()"
   ],
   "metadata": {
    "collapsed": false,
    "ExecuteTime": {
     "end_time": "2024-09-04T19:15:11.294579Z",
     "start_time": "2024-09-04T19:15:11.267898Z"
    }
   },
   "id": "10481f1b9103fcbd",
   "execution_count": 132
  },
  {
   "cell_type": "markdown",
   "source": [
    "## 3. Data Preparation\n",
    "\n",
    "- **Standardization**: Standardize numerical features to ensure each feature contributes equally to distance calculations in KNN."
   ],
   "metadata": {
    "collapsed": false
   },
   "id": "d20a1adc42f68e08"
  },
  {
   "cell_type": "code",
   "outputs": [],
   "source": [
    "#standardization/ standardizing the numerical values\n",
    "X = df_features_aka_x\n",
    "y = df_targets_aka_y.values.ravel()\n",
    "\n",
    "scaler = StandardScaler()\n",
    "X_scaled= scaler.fit_transform(X)"
   ],
   "metadata": {
    "collapsed": false,
    "ExecuteTime": {
     "end_time": "2024-09-04T19:05:55.305098Z",
     "start_time": "2024-09-04T19:05:55.302242Z"
    }
   },
   "id": "560dd6c839355a80",
   "execution_count": 118
  },
  {
   "cell_type": "markdown",
   "source": [
    "- **Splitting Data**: Divide the dataset into training and testing sets to evaluate the model's performance on unseen data."
   ],
   "metadata": {
    "collapsed": false
   },
   "id": "37aeca3f5f1b2e6c"
  },
  {
   "cell_type": "code",
   "outputs": [],
   "source": [
    "X_train, X_test, y_train, y_test = train_test_split(X_scaled, y, test_size=0.3, random_state=42)"
   ],
   "metadata": {
    "collapsed": false,
    "ExecuteTime": {
     "end_time": "2024-09-04T19:05:55.307404Z",
     "start_time": "2024-09-04T19:05:55.305580Z"
    }
   },
   "id": "984de440f831814e",
   "execution_count": 119
  },
  {
   "cell_type": "markdown",
   "source": [
    "## 4. Modeling\n",
    "- **Model training and evalutation**: Train KNN models with various k values and evaluate their performance based on accuracy, precision, and recall."
   ],
   "metadata": {
    "collapsed": false
   },
   "id": "d43debe348b8e789"
  },
  {
   "cell_type": "code",
   "outputs": [],
   "source": [
    "# define k:s for experimenting and init lists to store metrics\n",
    "k_values = list(range(1, 11))\n",
    "accuracy_list = []\n",
    "precision_list = []\n",
    "recall_list = []\n",
    "\n",
    "for k in k_values:\n",
    "    knn = KNeighborsClassifier(n_neighbors=k)\n",
    "    knn.fit(X_train, y_train)\n",
    "    \n",
    "    y_pred = knn.predict(X_test)\n",
    "    \n",
    "    accuracy = accuracy_score(y_test, y_pred)\n",
    "    precision = precision_score(y_test, y_pred, average='weighted')\n",
    "    recall = recall_score(y_test, y_pred, average='weighted')\n",
    "    \n",
    "    # Append the metrics to the lists\n",
    "    accuracy_list.append(accuracy)\n",
    "    precision_list.append(precision)\n",
    "    recall_list.append(recall)"
   ],
   "metadata": {
    "collapsed": false,
    "ExecuteTime": {
     "end_time": "2024-09-04T19:05:55.343221Z",
     "start_time": "2024-09-04T19:05:55.307893Z"
    }
   },
   "id": "9d969981ea0b15ff",
   "execution_count": 120
  },
  {
   "cell_type": "markdown",
   "source": [
    "## 5. Evaluation\n",
    "- **Best Model Selection**: Identify the best k based on the highest accuracy and evaluate the performance using a confusion matrix.\n",
    "\n"
   ],
   "metadata": {
    "collapsed": false
   },
   "id": "8285933e4d67548c"
  },
  {
   "cell_type": "code",
   "outputs": [],
   "source": [
    "# Find the confusion matrix for the best k (maximum accuracy)\n",
    "best_k = k_values[accuracy_list.index(max(accuracy_list))]\n",
    "\n",
    "#best knn with the best k\n",
    "best_knn = KNeighborsClassifier(n_neighbors=best_k)\n",
    "best_knn.fit(X_train, y_train)\n",
    "y_pred_best = best_knn.predict(X_test)\n",
    "\n",
    "#create confusion matrix with the best knn \n",
    "conf_matrix = confusion_matrix(y_test, y_pred_best)\n",
    "\n",
    "# Compile the results for reporting\n",
    "results = pd.DataFrame({\n",
    "    'k': k_values,\n",
    "    'Accuracy': accuracy_list,\n",
    "    'Precision': precision_list,\n",
    "    'Recall': recall_list\n",
    "})\n"
   ],
   "metadata": {
    "collapsed": false,
    "ExecuteTime": {
     "end_time": "2024-09-04T19:05:55.348947Z",
     "start_time": "2024-09-04T19:05:55.343981Z"
    }
   },
   "id": "d1f97e1158e30159",
   "execution_count": 121
  },
  {
   "cell_type": "markdown",
   "source": [
    "**Print results**"
   ],
   "metadata": {
    "collapsed": false
   },
   "id": "8538957b8933d591"
  },
  {
   "cell_type": "code",
   "outputs": [
    {
     "data": {
      "text/plain": "    k  Accuracy  Precision    Recall\n0   1  0.953216   0.953173  0.953216\n1   2  0.953216   0.954755  0.953216\n2   3  0.959064   0.958996  0.959064\n3   4  0.964912   0.964954  0.964912\n4   5  0.959064   0.958996  0.959064\n5   6  0.964912   0.964954  0.964912\n6   7  0.959064   0.958996  0.959064\n7   8  0.964912   0.964954  0.964912\n8   9  0.970760   0.970733  0.970760\n9  10  0.959064   0.959270  0.959064",
      "text/html": "<div>\n<style scoped>\n    .dataframe tbody tr th:only-of-type {\n        vertical-align: middle;\n    }\n\n    .dataframe tbody tr th {\n        vertical-align: top;\n    }\n\n    .dataframe thead th {\n        text-align: right;\n    }\n</style>\n<table border=\"1\" class=\"dataframe\">\n  <thead>\n    <tr style=\"text-align: right;\">\n      <th></th>\n      <th>k</th>\n      <th>Accuracy</th>\n      <th>Precision</th>\n      <th>Recall</th>\n    </tr>\n  </thead>\n  <tbody>\n    <tr>\n      <th>0</th>\n      <td>1</td>\n      <td>0.953216</td>\n      <td>0.953173</td>\n      <td>0.953216</td>\n    </tr>\n    <tr>\n      <th>1</th>\n      <td>2</td>\n      <td>0.953216</td>\n      <td>0.954755</td>\n      <td>0.953216</td>\n    </tr>\n    <tr>\n      <th>2</th>\n      <td>3</td>\n      <td>0.959064</td>\n      <td>0.958996</td>\n      <td>0.959064</td>\n    </tr>\n    <tr>\n      <th>3</th>\n      <td>4</td>\n      <td>0.964912</td>\n      <td>0.964954</td>\n      <td>0.964912</td>\n    </tr>\n    <tr>\n      <th>4</th>\n      <td>5</td>\n      <td>0.959064</td>\n      <td>0.958996</td>\n      <td>0.959064</td>\n    </tr>\n    <tr>\n      <th>5</th>\n      <td>6</td>\n      <td>0.964912</td>\n      <td>0.964954</td>\n      <td>0.964912</td>\n    </tr>\n    <tr>\n      <th>6</th>\n      <td>7</td>\n      <td>0.959064</td>\n      <td>0.958996</td>\n      <td>0.959064</td>\n    </tr>\n    <tr>\n      <th>7</th>\n      <td>8</td>\n      <td>0.964912</td>\n      <td>0.964954</td>\n      <td>0.964912</td>\n    </tr>\n    <tr>\n      <th>8</th>\n      <td>9</td>\n      <td>0.970760</td>\n      <td>0.970733</td>\n      <td>0.970760</td>\n    </tr>\n    <tr>\n      <th>9</th>\n      <td>10</td>\n      <td>0.959064</td>\n      <td>0.959270</td>\n      <td>0.959064</td>\n    </tr>\n  </tbody>\n</table>\n</div>"
     },
     "execution_count": 126,
     "metadata": {},
     "output_type": "execute_result"
    }
   ],
   "source": [
    "results"
   ],
   "metadata": {
    "collapsed": false,
    "ExecuteTime": {
     "end_time": "2024-09-04T19:08:19.786583Z",
     "start_time": "2024-09-04T19:08:19.779596Z"
    }
   },
   "id": "a56fdc30611b8fe6",
   "execution_count": 126
  },
  {
   "cell_type": "markdown",
   "source": [
    "**The best K according to accuracy is**:"
   ],
   "metadata": {
    "collapsed": false
   },
   "id": "75063a7e8f05f7c4"
  },
  {
   "cell_type": "code",
   "outputs": [
    {
     "data": {
      "text/plain": "9"
     },
     "execution_count": 127,
     "metadata": {},
     "output_type": "execute_result"
    }
   ],
   "source": [
    "best_k"
   ],
   "metadata": {
    "collapsed": false,
    "ExecuteTime": {
     "end_time": "2024-09-04T19:11:29.164185Z",
     "start_time": "2024-09-04T19:11:29.161324Z"
    }
   },
   "id": "83e50fb7ac4c5e8c",
   "execution_count": 127
  },
  {
   "cell_type": "markdown",
   "source": [
    "**Simple confusion matrix**:"
   ],
   "metadata": {
    "collapsed": false
   },
   "id": "b7dc34650c84b582"
  },
  {
   "cell_type": "code",
   "outputs": [
    {
     "data": {
      "text/plain": "array([[106,   2],\n       [  3,  60]])"
     },
     "execution_count": 128,
     "metadata": {},
     "output_type": "execute_result"
    }
   ],
   "source": [
    "conf_matrix"
   ],
   "metadata": {
    "collapsed": false,
    "ExecuteTime": {
     "end_time": "2024-09-04T19:12:26.229567Z",
     "start_time": "2024-09-04T19:12:26.225902Z"
    }
   },
   "id": "6e090fba3ce005de",
   "execution_count": 128
  },
  {
   "cell_type": "markdown",
   "source": [
    "**Plotted Confusion Matrix**:"
   ],
   "metadata": {
    "collapsed": false
   },
   "id": "f7a510004ec65397"
  },
  {
   "cell_type": "code",
   "outputs": [
    {
     "data": {
      "text/plain": "<sklearn.metrics._plot.confusion_matrix.ConfusionMatrixDisplay at 0x334be1e50>"
     },
     "execution_count": 133,
     "metadata": {},
     "output_type": "execute_result"
    },
    {
     "data": {
      "text/plain": "<Figure size 640x480 with 2 Axes>",
      "image/png": "[encoded data removed]"
     },
     "metadata": {},
     "output_type": "display_data"
    }
   ],
   "source": [
    "cmd = ConfusionMatrixDisplay(conf_matrix, display_labels=['Malignant', 'Benign'])\n",
    "cmd.plot()"
   ],
   "metadata": {
    "collapsed": false,
    "ExecuteTime": {
     "end_time": "2024-09-04T19:24:21.085049Z",
     "start_time": "2024-09-04T19:24:21.019861Z"
    }
   },
   "id": "f79198f56adeaf70",
   "execution_count": 133
  },
  {
   "cell_type": "markdown",
   "source": [
    "**Confusion Matrix Analysis**\n",
    "\n",
    "The plotted confusion matrix shows the following classification results:\n",
    "\n",
    "- **Malignant Cases**:\n",
    "  - 3 out of 109 malignant cases are mistakenly classified as \"Benign.\"\n",
    "\n",
    "- **Benign Cases**:\n",
    "  - 2 out of 66 benign cases are mistakenly classified as \"Malignant.\"\n",
    "\n",
    "Overall, the model performs well, with a relatively low number of misclassifications.\n"
   ],
   "metadata": {
    "collapsed": false
   },
   "id": "caaddb528aa3389e"
  }
 ],
 "metadata": {
  "kernelspec": {
   "display_name": "Python 3 (ipykernel)",
   "language": "python",
   "name": "python3"
  },
  "language_info": {
   "codemirror_mode": {
    "name": "ipython",
    "version": 3
   },
   "file_extension": ".py",
   "mimetype": "text/x-python",
   "name": "python",
   "nbconvert_exporter": "python",
   "pygments_lexer": "ipython3",
   "version": "3.12.4"
  }
 },
 "nbformat": 4,
 "nbformat_minor": 5
}
